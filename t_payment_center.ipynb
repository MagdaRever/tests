{
 "cells": [
  {
   "cell_type": "markdown",
   "id": "1bdbb392",
   "metadata": {},
   "source": [
    "# Тестовое задание на поиск аномалий в данных"
   ]
  },
  {
   "cell_type": "code",
   "execution_count": 1,
   "id": "b5416a86",
   "metadata": {},
   "outputs": [],
   "source": [
    "# импорт библиотек\n",
    "import pandas as pd\n",
    "import matplotlib.pyplot as plt"
   ]
  },
  {
   "cell_type": "markdown",
   "id": "8e44235f",
   "metadata": {},
   "source": [
    "## Подготовка данных для анализа"
   ]
  },
  {
   "cell_type": "code",
   "execution_count": 2,
   "id": "97a736f9",
   "metadata": {},
   "outputs": [
    {
     "name": "stderr",
     "output_type": "stream",
     "text": [
      "C:\\Users\\79199\\anaconda3\\lib\\site-packages\\openpyxl\\worksheet\\header_footer.py:48: UserWarning: Cannot parse header or footer so it will be ignored\n",
      "  warn(\"\"\"Cannot parse header or footer so it will be ignored\"\"\")\n"
     ]
    }
   ],
   "source": [
    "#открываем файл с заданием\n",
    "df = pd.read_excel('C://Users//79199//Downloads//Тест на внимательность.xlsx')"
   ]
  },
  {
   "cell_type": "code",
   "execution_count": 3,
   "id": "febcd16c",
   "metadata": {},
   "outputs": [
    {
     "data": {
      "text/html": [
       "<div>\n",
       "<style scoped>\n",
       "    .dataframe tbody tr th:only-of-type {\n",
       "        vertical-align: middle;\n",
       "    }\n",
       "\n",
       "    .dataframe tbody tr th {\n",
       "        vertical-align: top;\n",
       "    }\n",
       "\n",
       "    .dataframe thead th {\n",
       "        text-align: right;\n",
       "    }\n",
       "</style>\n",
       "<table border=\"1\" class=\"dataframe\">\n",
       "  <thead>\n",
       "    <tr style=\"text-align: right;\">\n",
       "      <th></th>\n",
       "      <th>Найти ошибки (странности, неувязки) в данных ниже</th>\n",
       "      <th>Unnamed: 1</th>\n",
       "      <th>Unnamed: 2</th>\n",
       "      <th>Unnamed: 3</th>\n",
       "      <th>Unnamed: 4</th>\n",
       "      <th>Unnamed: 5</th>\n",
       "      <th>Unnamed: 6</th>\n",
       "      <th>Unnamed: 7</th>\n",
       "    </tr>\n",
       "  </thead>\n",
       "  <tbody>\n",
       "    <tr>\n",
       "      <th>0</th>\n",
       "      <td>NaN</td>\n",
       "      <td>NaN</td>\n",
       "      <td>NaN</td>\n",
       "      <td>NaN</td>\n",
       "      <td>NaN</td>\n",
       "      <td>NaN</td>\n",
       "      <td>NaN</td>\n",
       "      <td>NaN</td>\n",
       "    </tr>\n",
       "    <tr>\n",
       "      <th>1</th>\n",
       "      <td>log_id</td>\n",
       "      <td>lim_id</td>\n",
       "      <td>created_at</td>\n",
       "      <td>out_sid</td>\n",
       "      <td>in_sid</td>\n",
       "      <td>period_from</td>\n",
       "      <td>period_to</td>\n",
       "      <td>amount</td>\n",
       "    </tr>\n",
       "    <tr>\n",
       "      <th>2</th>\n",
       "      <td>10748104</td>\n",
       "      <td>10116</td>\n",
       "      <td>2021-11-24 18:45:01</td>\n",
       "      <td>2281</td>\n",
       "      <td>2280</td>\n",
       "      <td>2021-11-24 18:00:00</td>\n",
       "      <td>2021-11-24 18:30:00</td>\n",
       "      <td>68288</td>\n",
       "    </tr>\n",
       "    <tr>\n",
       "      <th>3</th>\n",
       "      <td>10747681</td>\n",
       "      <td>10116</td>\n",
       "      <td>2021-11-24 18:15:01</td>\n",
       "      <td>2281</td>\n",
       "      <td>2280</td>\n",
       "      <td>2021-11-24 17:30:00</td>\n",
       "      <td>2021-11-24 18:00:00</td>\n",
       "      <td>119336.8</td>\n",
       "    </tr>\n",
       "    <tr>\n",
       "      <th>4</th>\n",
       "      <td>10746909</td>\n",
       "      <td>10116</td>\n",
       "      <td>2021-11-24 17:45:02</td>\n",
       "      <td>2281</td>\n",
       "      <td>2280</td>\n",
       "      <td>2021-11-24 17:00:00</td>\n",
       "      <td>2021-11-24 17:30:00</td>\n",
       "      <td>255992</td>\n",
       "    </tr>\n",
       "    <tr>\n",
       "      <th>5</th>\n",
       "      <td>10746240</td>\n",
       "      <td>10116</td>\n",
       "      <td>2021-11-24 17:15:01</td>\n",
       "      <td>2281</td>\n",
       "      <td>2280</td>\n",
       "      <td>2021-11-24 16:30:00</td>\n",
       "      <td>2021-11-24 17:00:00</td>\n",
       "      <td>346251.2307</td>\n",
       "    </tr>\n",
       "    <tr>\n",
       "      <th>6</th>\n",
       "      <td>10745042</td>\n",
       "      <td>10116</td>\n",
       "      <td>2021-11-24 16:45:01</td>\n",
       "      <td>2281</td>\n",
       "      <td>2280</td>\n",
       "      <td>2021-11-24 16:00:00</td>\n",
       "      <td>2021-11-24 16:30:00</td>\n",
       "      <td>243848</td>\n",
       "    </tr>\n",
       "    <tr>\n",
       "      <th>7</th>\n",
       "      <td>10743829</td>\n",
       "      <td>10116</td>\n",
       "      <td>2021-11-24 16:15:02</td>\n",
       "      <td>2281</td>\n",
       "      <td>2280</td>\n",
       "      <td>2021-11-24 15:30:00</td>\n",
       "      <td>2021-11-24 16:00:00</td>\n",
       "      <td>139371.76</td>\n",
       "    </tr>\n",
       "    <tr>\n",
       "      <th>8</th>\n",
       "      <td>10742693</td>\n",
       "      <td>10116</td>\n",
       "      <td>2021-11-24 15:45:01</td>\n",
       "      <td>2281</td>\n",
       "      <td>2280</td>\n",
       "      <td>2021-11-24 15:00:00</td>\n",
       "      <td>2021-11-24 15:30:00</td>\n",
       "      <td>353176.5021</td>\n",
       "    </tr>\n",
       "    <tr>\n",
       "      <th>9</th>\n",
       "      <td>10741542</td>\n",
       "      <td>10116</td>\n",
       "      <td>2021-11-24 15:15:02</td>\n",
       "      <td>2281</td>\n",
       "      <td>2280</td>\n",
       "      <td>2021-11-24 14:30:00</td>\n",
       "      <td>2021-11-24 15:00:00</td>\n",
       "      <td>300520.88</td>\n",
       "    </tr>\n",
       "    <tr>\n",
       "      <th>10</th>\n",
       "      <td>10740534</td>\n",
       "      <td>10116</td>\n",
       "      <td>2021-11-24 14:45:01</td>\n",
       "      <td>2281</td>\n",
       "      <td>2280</td>\n",
       "      <td>2021-11-24 14:00:00</td>\n",
       "      <td>2021-11-24 14:30:00</td>\n",
       "      <td>227876.88</td>\n",
       "    </tr>\n",
       "    <tr>\n",
       "      <th>11</th>\n",
       "      <td>10739518</td>\n",
       "      <td>10116</td>\n",
       "      <td>2021-11-24 14:15:02</td>\n",
       "      <td>2281</td>\n",
       "      <td>2280</td>\n",
       "      <td>2021-11-24 13:30:00</td>\n",
       "      <td>2021-11-24 14:00:00</td>\n",
       "      <td>70752</td>\n",
       "    </tr>\n",
       "    <tr>\n",
       "      <th>12</th>\n",
       "      <td>10738582</td>\n",
       "      <td>10116</td>\n",
       "      <td>2021-11-24 13:45:01</td>\n",
       "      <td>2281</td>\n",
       "      <td>2280</td>\n",
       "      <td>2021-11-24 13:00:00</td>\n",
       "      <td>2021-11-24 13:30:00</td>\n",
       "      <td>264440</td>\n",
       "    </tr>\n",
       "    <tr>\n",
       "      <th>13</th>\n",
       "      <td>10737060</td>\n",
       "      <td>10116</td>\n",
       "      <td>2021-11-24 13:15:01</td>\n",
       "      <td>2281</td>\n",
       "      <td>2280</td>\n",
       "      <td>2021-11-24 12:30:00</td>\n",
       "      <td>2021-11-24 13:00:00</td>\n",
       "      <td>93808</td>\n",
       "    </tr>\n",
       "    <tr>\n",
       "      <th>14</th>\n",
       "      <td>10735812</td>\n",
       "      <td>10116</td>\n",
       "      <td>2021-11-24 12:45:02</td>\n",
       "      <td>2281</td>\n",
       "      <td>2280</td>\n",
       "      <td>2021-11-24 12:00:00</td>\n",
       "      <td>2021-11-24 12:30:00</td>\n",
       "      <td>85800</td>\n",
       "    </tr>\n",
       "  </tbody>\n",
       "</table>\n",
       "</div>"
      ],
      "text/plain": [
       "   Найти ошибки (странности, неувязки) в данных ниже Unnamed: 1  \\\n",
       "0                                                NaN        NaN   \n",
       "1                                             log_id     lim_id   \n",
       "2                                           10748104      10116   \n",
       "3                                           10747681      10116   \n",
       "4                                           10746909      10116   \n",
       "5                                           10746240      10116   \n",
       "6                                           10745042      10116   \n",
       "7                                           10743829      10116   \n",
       "8                                           10742693      10116   \n",
       "9                                           10741542      10116   \n",
       "10                                          10740534      10116   \n",
       "11                                          10739518      10116   \n",
       "12                                          10738582      10116   \n",
       "13                                          10737060      10116   \n",
       "14                                          10735812      10116   \n",
       "\n",
       "             Unnamed: 2 Unnamed: 3 Unnamed: 4           Unnamed: 5  \\\n",
       "0                   NaN        NaN        NaN                  NaN   \n",
       "1            created_at    out_sid     in_sid          period_from   \n",
       "2   2021-11-24 18:45:01       2281       2280  2021-11-24 18:00:00   \n",
       "3   2021-11-24 18:15:01       2281       2280  2021-11-24 17:30:00   \n",
       "4   2021-11-24 17:45:02       2281       2280  2021-11-24 17:00:00   \n",
       "5   2021-11-24 17:15:01       2281       2280  2021-11-24 16:30:00   \n",
       "6   2021-11-24 16:45:01       2281       2280  2021-11-24 16:00:00   \n",
       "7   2021-11-24 16:15:02       2281       2280  2021-11-24 15:30:00   \n",
       "8   2021-11-24 15:45:01       2281       2280  2021-11-24 15:00:00   \n",
       "9   2021-11-24 15:15:02       2281       2280  2021-11-24 14:30:00   \n",
       "10  2021-11-24 14:45:01       2281       2280  2021-11-24 14:00:00   \n",
       "11  2021-11-24 14:15:02       2281       2280  2021-11-24 13:30:00   \n",
       "12  2021-11-24 13:45:01       2281       2280  2021-11-24 13:00:00   \n",
       "13  2021-11-24 13:15:01       2281       2280  2021-11-24 12:30:00   \n",
       "14  2021-11-24 12:45:02       2281       2280  2021-11-24 12:00:00   \n",
       "\n",
       "             Unnamed: 6   Unnamed: 7  \n",
       "0                   NaN          NaN  \n",
       "1             period_to       amount  \n",
       "2   2021-11-24 18:30:00        68288  \n",
       "3   2021-11-24 18:00:00     119336.8  \n",
       "4   2021-11-24 17:30:00       255992  \n",
       "5   2021-11-24 17:00:00  346251.2307  \n",
       "6   2021-11-24 16:30:00       243848  \n",
       "7   2021-11-24 16:00:00    139371.76  \n",
       "8   2021-11-24 15:30:00  353176.5021  \n",
       "9   2021-11-24 15:00:00    300520.88  \n",
       "10  2021-11-24 14:30:00    227876.88  \n",
       "11  2021-11-24 14:00:00        70752  \n",
       "12  2021-11-24 13:30:00       264440  \n",
       "13  2021-11-24 13:00:00        93808  \n",
       "14  2021-11-24 12:30:00        85800  "
      ]
     },
     "execution_count": 3,
     "metadata": {},
     "output_type": "execute_result"
    }
   ],
   "source": [
    "df.head(15)"
   ]
  },
  {
   "cell_type": "code",
   "execution_count": 4,
   "id": "55f455ec",
   "metadata": {},
   "outputs": [
    {
     "data": {
      "text/html": [
       "<div>\n",
       "<style scoped>\n",
       "    .dataframe tbody tr th:only-of-type {\n",
       "        vertical-align: middle;\n",
       "    }\n",
       "\n",
       "    .dataframe tbody tr th {\n",
       "        vertical-align: top;\n",
       "    }\n",
       "\n",
       "    .dataframe thead th {\n",
       "        text-align: right;\n",
       "    }\n",
       "</style>\n",
       "<table border=\"1\" class=\"dataframe\">\n",
       "  <thead>\n",
       "    <tr style=\"text-align: right;\">\n",
       "      <th></th>\n",
       "      <th>Найти ошибки (странности, неувязки) в данных ниже</th>\n",
       "      <th>Unnamed: 1</th>\n",
       "      <th>Unnamed: 2</th>\n",
       "      <th>Unnamed: 3</th>\n",
       "      <th>Unnamed: 4</th>\n",
       "      <th>Unnamed: 5</th>\n",
       "      <th>Unnamed: 6</th>\n",
       "      <th>Unnamed: 7</th>\n",
       "    </tr>\n",
       "  </thead>\n",
       "  <tbody>\n",
       "    <tr>\n",
       "      <th>1</th>\n",
       "      <td>log_id</td>\n",
       "      <td>lim_id</td>\n",
       "      <td>created_at</td>\n",
       "      <td>out_sid</td>\n",
       "      <td>in_sid</td>\n",
       "      <td>period_from</td>\n",
       "      <td>period_to</td>\n",
       "      <td>amount</td>\n",
       "    </tr>\n",
       "    <tr>\n",
       "      <th>2</th>\n",
       "      <td>10748104</td>\n",
       "      <td>10116</td>\n",
       "      <td>2021-11-24 18:45:01</td>\n",
       "      <td>2281</td>\n",
       "      <td>2280</td>\n",
       "      <td>2021-11-24 18:00:00</td>\n",
       "      <td>2021-11-24 18:30:00</td>\n",
       "      <td>68288</td>\n",
       "    </tr>\n",
       "    <tr>\n",
       "      <th>3</th>\n",
       "      <td>10747681</td>\n",
       "      <td>10116</td>\n",
       "      <td>2021-11-24 18:15:01</td>\n",
       "      <td>2281</td>\n",
       "      <td>2280</td>\n",
       "      <td>2021-11-24 17:30:00</td>\n",
       "      <td>2021-11-24 18:00:00</td>\n",
       "      <td>119336.8</td>\n",
       "    </tr>\n",
       "    <tr>\n",
       "      <th>4</th>\n",
       "      <td>10746909</td>\n",
       "      <td>10116</td>\n",
       "      <td>2021-11-24 17:45:02</td>\n",
       "      <td>2281</td>\n",
       "      <td>2280</td>\n",
       "      <td>2021-11-24 17:00:00</td>\n",
       "      <td>2021-11-24 17:30:00</td>\n",
       "      <td>255992</td>\n",
       "    </tr>\n",
       "    <tr>\n",
       "      <th>5</th>\n",
       "      <td>10746240</td>\n",
       "      <td>10116</td>\n",
       "      <td>2021-11-24 17:15:01</td>\n",
       "      <td>2281</td>\n",
       "      <td>2280</td>\n",
       "      <td>2021-11-24 16:30:00</td>\n",
       "      <td>2021-11-24 17:00:00</td>\n",
       "      <td>346251.2307</td>\n",
       "    </tr>\n",
       "    <tr>\n",
       "      <th>...</th>\n",
       "      <td>...</td>\n",
       "      <td>...</td>\n",
       "      <td>...</td>\n",
       "      <td>...</td>\n",
       "      <td>...</td>\n",
       "      <td>...</td>\n",
       "      <td>...</td>\n",
       "      <td>...</td>\n",
       "    </tr>\n",
       "    <tr>\n",
       "      <th>263</th>\n",
       "      <td>10471737</td>\n",
       "      <td>10116</td>\n",
       "      <td>2021-11-19 02:45:01</td>\n",
       "      <td>2281</td>\n",
       "      <td>2280</td>\n",
       "      <td>2021-11-19 02:00:00</td>\n",
       "      <td>2021-11-19 02:30:00</td>\n",
       "      <td>5280</td>\n",
       "    </tr>\n",
       "    <tr>\n",
       "      <th>264</th>\n",
       "      <td>10471514</td>\n",
       "      <td>10116</td>\n",
       "      <td>2021-11-19 02:15:02</td>\n",
       "      <td>2281</td>\n",
       "      <td>2280</td>\n",
       "      <td>2021-11-19 01:30:00</td>\n",
       "      <td>2021-11-19 02:00:00</td>\n",
       "      <td>10384</td>\n",
       "    </tr>\n",
       "    <tr>\n",
       "      <th>265</th>\n",
       "      <td>10471286</td>\n",
       "      <td>10116</td>\n",
       "      <td>2021-11-19 01:45:01</td>\n",
       "      <td>2281</td>\n",
       "      <td>2280</td>\n",
       "      <td>2021-11-19 01:00:00</td>\n",
       "      <td>2021-11-19 01:30:00</td>\n",
       "      <td>70400</td>\n",
       "    </tr>\n",
       "    <tr>\n",
       "      <th>266</th>\n",
       "      <td>10471184</td>\n",
       "      <td>10116</td>\n",
       "      <td>2021-11-19 01:15:01</td>\n",
       "      <td>2281</td>\n",
       "      <td>2280</td>\n",
       "      <td>2021-11-19 00:30:00</td>\n",
       "      <td>2021-11-19 01:00:00</td>\n",
       "      <td>14872</td>\n",
       "    </tr>\n",
       "    <tr>\n",
       "      <th>267</th>\n",
       "      <td>10470953</td>\n",
       "      <td>10116</td>\n",
       "      <td>2021-11-19 00:45:02</td>\n",
       "      <td>2281</td>\n",
       "      <td>2280</td>\n",
       "      <td>2021-11-19 00:00:00</td>\n",
       "      <td>2021-11-19 00:30:00</td>\n",
       "      <td>9680</td>\n",
       "    </tr>\n",
       "  </tbody>\n",
       "</table>\n",
       "<p>267 rows × 8 columns</p>\n",
       "</div>"
      ],
      "text/plain": [
       "    Найти ошибки (странности, неувязки) в данных ниже Unnamed: 1  \\\n",
       "1                                              log_id     lim_id   \n",
       "2                                            10748104      10116   \n",
       "3                                            10747681      10116   \n",
       "4                                            10746909      10116   \n",
       "5                                            10746240      10116   \n",
       "..                                                ...        ...   \n",
       "263                                          10471737      10116   \n",
       "264                                          10471514      10116   \n",
       "265                                          10471286      10116   \n",
       "266                                          10471184      10116   \n",
       "267                                          10470953      10116   \n",
       "\n",
       "              Unnamed: 2 Unnamed: 3 Unnamed: 4           Unnamed: 5  \\\n",
       "1             created_at    out_sid     in_sid          period_from   \n",
       "2    2021-11-24 18:45:01       2281       2280  2021-11-24 18:00:00   \n",
       "3    2021-11-24 18:15:01       2281       2280  2021-11-24 17:30:00   \n",
       "4    2021-11-24 17:45:02       2281       2280  2021-11-24 17:00:00   \n",
       "5    2021-11-24 17:15:01       2281       2280  2021-11-24 16:30:00   \n",
       "..                   ...        ...        ...                  ...   \n",
       "263  2021-11-19 02:45:01       2281       2280  2021-11-19 02:00:00   \n",
       "264  2021-11-19 02:15:02       2281       2280  2021-11-19 01:30:00   \n",
       "265  2021-11-19 01:45:01       2281       2280  2021-11-19 01:00:00   \n",
       "266  2021-11-19 01:15:01       2281       2280  2021-11-19 00:30:00   \n",
       "267  2021-11-19 00:45:02       2281       2280  2021-11-19 00:00:00   \n",
       "\n",
       "              Unnamed: 6   Unnamed: 7  \n",
       "1              period_to       amount  \n",
       "2    2021-11-24 18:30:00        68288  \n",
       "3    2021-11-24 18:00:00     119336.8  \n",
       "4    2021-11-24 17:30:00       255992  \n",
       "5    2021-11-24 17:00:00  346251.2307  \n",
       "..                   ...          ...  \n",
       "263  2021-11-19 02:30:00         5280  \n",
       "264  2021-11-19 02:00:00        10384  \n",
       "265  2021-11-19 01:30:00        70400  \n",
       "266  2021-11-19 01:00:00        14872  \n",
       "267  2021-11-19 00:30:00         9680  \n",
       "\n",
       "[267 rows x 8 columns]"
      ]
     },
     "execution_count": 4,
     "metadata": {},
     "output_type": "execute_result"
    }
   ],
   "source": [
    "#удаляем верхнюю пустую строку\n",
    "df.drop(index=df.index[0], axis=0, inplace=True)\n",
    "df"
   ]
  },
  {
   "cell_type": "code",
   "execution_count": 5,
   "id": "4da6d82c",
   "metadata": {},
   "outputs": [],
   "source": [
    "# переименовываем столбцы на говорящие названия, снова удаляем первую строку\n",
    "df = df.rename(columns={'Найти ошибки (странности, неувязки) в данных ниже':'log_id',\n",
    "                        'Unnamed: 1':'lim_id',\n",
    "                        'Unnamed: 2':'created_at',\n",
    "                        'Unnamed: 3':'out_sid',\n",
    "                        'Unnamed: 4':'in_sid',\n",
    "                        'Unnamed: 5':'period_from',\n",
    "                        'Unnamed: 6':'period_to',\n",
    "                        'Unnamed: 7':'amount'})\n",
    "df.drop(index=df.index[0], axis=0, inplace=True)"
   ]
  },
  {
   "cell_type": "code",
   "execution_count": 6,
   "id": "f0a8ab97",
   "metadata": {},
   "outputs": [
    {
     "data": {
      "text/html": [
       "<div>\n",
       "<style scoped>\n",
       "    .dataframe tbody tr th:only-of-type {\n",
       "        vertical-align: middle;\n",
       "    }\n",
       "\n",
       "    .dataframe tbody tr th {\n",
       "        vertical-align: top;\n",
       "    }\n",
       "\n",
       "    .dataframe thead th {\n",
       "        text-align: right;\n",
       "    }\n",
       "</style>\n",
       "<table border=\"1\" class=\"dataframe\">\n",
       "  <thead>\n",
       "    <tr style=\"text-align: right;\">\n",
       "      <th></th>\n",
       "      <th>log_id</th>\n",
       "      <th>lim_id</th>\n",
       "      <th>created_at</th>\n",
       "      <th>out_sid</th>\n",
       "      <th>in_sid</th>\n",
       "      <th>period_from</th>\n",
       "      <th>period_to</th>\n",
       "      <th>amount</th>\n",
       "    </tr>\n",
       "  </thead>\n",
       "  <tbody>\n",
       "    <tr>\n",
       "      <th>2</th>\n",
       "      <td>10748104</td>\n",
       "      <td>10116</td>\n",
       "      <td>2021-11-24 18:45:01</td>\n",
       "      <td>2281</td>\n",
       "      <td>2280</td>\n",
       "      <td>2021-11-24 18:00:00</td>\n",
       "      <td>2021-11-24 18:30:00</td>\n",
       "      <td>68288</td>\n",
       "    </tr>\n",
       "    <tr>\n",
       "      <th>3</th>\n",
       "      <td>10747681</td>\n",
       "      <td>10116</td>\n",
       "      <td>2021-11-24 18:15:01</td>\n",
       "      <td>2281</td>\n",
       "      <td>2280</td>\n",
       "      <td>2021-11-24 17:30:00</td>\n",
       "      <td>2021-11-24 18:00:00</td>\n",
       "      <td>119336.8</td>\n",
       "    </tr>\n",
       "    <tr>\n",
       "      <th>4</th>\n",
       "      <td>10746909</td>\n",
       "      <td>10116</td>\n",
       "      <td>2021-11-24 17:45:02</td>\n",
       "      <td>2281</td>\n",
       "      <td>2280</td>\n",
       "      <td>2021-11-24 17:00:00</td>\n",
       "      <td>2021-11-24 17:30:00</td>\n",
       "      <td>255992</td>\n",
       "    </tr>\n",
       "    <tr>\n",
       "      <th>5</th>\n",
       "      <td>10746240</td>\n",
       "      <td>10116</td>\n",
       "      <td>2021-11-24 17:15:01</td>\n",
       "      <td>2281</td>\n",
       "      <td>2280</td>\n",
       "      <td>2021-11-24 16:30:00</td>\n",
       "      <td>2021-11-24 17:00:00</td>\n",
       "      <td>346251.2307</td>\n",
       "    </tr>\n",
       "    <tr>\n",
       "      <th>6</th>\n",
       "      <td>10745042</td>\n",
       "      <td>10116</td>\n",
       "      <td>2021-11-24 16:45:01</td>\n",
       "      <td>2281</td>\n",
       "      <td>2280</td>\n",
       "      <td>2021-11-24 16:00:00</td>\n",
       "      <td>2021-11-24 16:30:00</td>\n",
       "      <td>243848</td>\n",
       "    </tr>\n",
       "    <tr>\n",
       "      <th>...</th>\n",
       "      <td>...</td>\n",
       "      <td>...</td>\n",
       "      <td>...</td>\n",
       "      <td>...</td>\n",
       "      <td>...</td>\n",
       "      <td>...</td>\n",
       "      <td>...</td>\n",
       "      <td>...</td>\n",
       "    </tr>\n",
       "    <tr>\n",
       "      <th>263</th>\n",
       "      <td>10471737</td>\n",
       "      <td>10116</td>\n",
       "      <td>2021-11-19 02:45:01</td>\n",
       "      <td>2281</td>\n",
       "      <td>2280</td>\n",
       "      <td>2021-11-19 02:00:00</td>\n",
       "      <td>2021-11-19 02:30:00</td>\n",
       "      <td>5280</td>\n",
       "    </tr>\n",
       "    <tr>\n",
       "      <th>264</th>\n",
       "      <td>10471514</td>\n",
       "      <td>10116</td>\n",
       "      <td>2021-11-19 02:15:02</td>\n",
       "      <td>2281</td>\n",
       "      <td>2280</td>\n",
       "      <td>2021-11-19 01:30:00</td>\n",
       "      <td>2021-11-19 02:00:00</td>\n",
       "      <td>10384</td>\n",
       "    </tr>\n",
       "    <tr>\n",
       "      <th>265</th>\n",
       "      <td>10471286</td>\n",
       "      <td>10116</td>\n",
       "      <td>2021-11-19 01:45:01</td>\n",
       "      <td>2281</td>\n",
       "      <td>2280</td>\n",
       "      <td>2021-11-19 01:00:00</td>\n",
       "      <td>2021-11-19 01:30:00</td>\n",
       "      <td>70400</td>\n",
       "    </tr>\n",
       "    <tr>\n",
       "      <th>266</th>\n",
       "      <td>10471184</td>\n",
       "      <td>10116</td>\n",
       "      <td>2021-11-19 01:15:01</td>\n",
       "      <td>2281</td>\n",
       "      <td>2280</td>\n",
       "      <td>2021-11-19 00:30:00</td>\n",
       "      <td>2021-11-19 01:00:00</td>\n",
       "      <td>14872</td>\n",
       "    </tr>\n",
       "    <tr>\n",
       "      <th>267</th>\n",
       "      <td>10470953</td>\n",
       "      <td>10116</td>\n",
       "      <td>2021-11-19 00:45:02</td>\n",
       "      <td>2281</td>\n",
       "      <td>2280</td>\n",
       "      <td>2021-11-19 00:00:00</td>\n",
       "      <td>2021-11-19 00:30:00</td>\n",
       "      <td>9680</td>\n",
       "    </tr>\n",
       "  </tbody>\n",
       "</table>\n",
       "<p>266 rows × 8 columns</p>\n",
       "</div>"
      ],
      "text/plain": [
       "       log_id lim_id           created_at out_sid in_sid          period_from  \\\n",
       "2    10748104  10116  2021-11-24 18:45:01    2281   2280  2021-11-24 18:00:00   \n",
       "3    10747681  10116  2021-11-24 18:15:01    2281   2280  2021-11-24 17:30:00   \n",
       "4    10746909  10116  2021-11-24 17:45:02    2281   2280  2021-11-24 17:00:00   \n",
       "5    10746240  10116  2021-11-24 17:15:01    2281   2280  2021-11-24 16:30:00   \n",
       "6    10745042  10116  2021-11-24 16:45:01    2281   2280  2021-11-24 16:00:00   \n",
       "..        ...    ...                  ...     ...    ...                  ...   \n",
       "263  10471737  10116  2021-11-19 02:45:01    2281   2280  2021-11-19 02:00:00   \n",
       "264  10471514  10116  2021-11-19 02:15:02    2281   2280  2021-11-19 01:30:00   \n",
       "265  10471286  10116  2021-11-19 01:45:01    2281   2280  2021-11-19 01:00:00   \n",
       "266  10471184  10116  2021-11-19 01:15:01    2281   2280  2021-11-19 00:30:00   \n",
       "267  10470953  10116  2021-11-19 00:45:02    2281   2280  2021-11-19 00:00:00   \n",
       "\n",
       "               period_to       amount  \n",
       "2    2021-11-24 18:30:00        68288  \n",
       "3    2021-11-24 18:00:00     119336.8  \n",
       "4    2021-11-24 17:30:00       255992  \n",
       "5    2021-11-24 17:00:00  346251.2307  \n",
       "6    2021-11-24 16:30:00       243848  \n",
       "..                   ...          ...  \n",
       "263  2021-11-19 02:30:00         5280  \n",
       "264  2021-11-19 02:00:00        10384  \n",
       "265  2021-11-19 01:30:00        70400  \n",
       "266  2021-11-19 01:00:00        14872  \n",
       "267  2021-11-19 00:30:00         9680  \n",
       "\n",
       "[266 rows x 8 columns]"
      ]
     },
     "execution_count": 6,
     "metadata": {},
     "output_type": "execute_result"
    }
   ],
   "source": [
    "df"
   ]
  },
  {
   "cell_type": "code",
   "execution_count": 7,
   "id": "94903595",
   "metadata": {},
   "outputs": [
    {
     "name": "stdout",
     "output_type": "stream",
     "text": [
      "<class 'pandas.core.frame.DataFrame'>\n",
      "Int64Index: 266 entries, 2 to 267\n",
      "Data columns (total 8 columns):\n",
      " #   Column       Non-Null Count  Dtype \n",
      "---  ------       --------------  ----- \n",
      " 0   log_id       266 non-null    object\n",
      " 1   lim_id       266 non-null    object\n",
      " 2   created_at   266 non-null    object\n",
      " 3   out_sid      266 non-null    object\n",
      " 4   in_sid       266 non-null    object\n",
      " 5   period_from  266 non-null    object\n",
      " 6   period_to    266 non-null    object\n",
      " 7   amount       266 non-null    object\n",
      "dtypes: object(8)\n",
      "memory usage: 18.7+ KB\n"
     ]
    }
   ],
   "source": [
    "# смотрим описание датафрейма, пропуски, типы данных\n",
    "df.info()"
   ]
  },
  {
   "cell_type": "code",
   "execution_count": 8,
   "id": "1ac61d56",
   "metadata": {},
   "outputs": [],
   "source": [
    "# преобразуем поля с числолвыми данными в типы int и float\n",
    "df[['log_id', 'lim_id', 'out_sid', 'in_sid']] = df[['log_id', 'lim_id', 'out_sid', 'in_sid']].astype(str).astype(int)\n",
    "df['amount'] = df['amount'].astype(float)"
   ]
  },
  {
   "cell_type": "code",
   "execution_count": 9,
   "id": "50cac3d7",
   "metadata": {
    "scrolled": false
   },
   "outputs": [
    {
     "name": "stdout",
     "output_type": "stream",
     "text": [
      "<class 'pandas.core.frame.DataFrame'>\n",
      "Int64Index: 266 entries, 2 to 267\n",
      "Data columns (total 8 columns):\n",
      " #   Column       Non-Null Count  Dtype         \n",
      "---  ------       --------------  -----         \n",
      " 0   log_id       266 non-null    int32         \n",
      " 1   lim_id       266 non-null    int32         \n",
      " 2   created_at   266 non-null    datetime64[ns]\n",
      " 3   out_sid      266 non-null    int32         \n",
      " 4   in_sid       266 non-null    int32         \n",
      " 5   period_from  266 non-null    datetime64[ns]\n",
      " 6   period_to    266 non-null    datetime64[ns]\n",
      " 7   amount       266 non-null    float64       \n",
      "dtypes: datetime64[ns](3), float64(1), int32(4)\n",
      "memory usage: 14.5 KB\n"
     ]
    }
   ],
   "source": [
    "# преобразуем поля с датами в тип `datetime`\n",
    "df[['created_at', 'period_from', 'period_to']] = df[['created_at', 'period_from', 'period_to']].apply(pd.to_datetime)\n",
    "df.info()"
   ]
  },
  {
   "cell_type": "markdown",
   "id": "56db9543",
   "metadata": {},
   "source": [
    "## Поиск ошибок (странностей, неувязок)"
   ]
  },
  {
   "cell_type": "code",
   "execution_count": 10,
   "id": "442f30a5",
   "metadata": {},
   "outputs": [
    {
     "data": {
      "text/plain": [
       "266"
      ]
     },
     "execution_count": 10,
     "metadata": {},
     "output_type": "execute_result"
    }
   ],
   "source": [
    "# убедимся, что все id уникальны\n",
    "df.log_id.nunique()"
   ]
  },
  {
   "cell_type": "markdown",
   "id": "c0ea35cc",
   "metadata": {},
   "source": [
    "Промежуточный вывод: все `id` уникальны, здесь ошибок нет."
   ]
  },
  {
   "cell_type": "code",
   "execution_count": 11,
   "id": "7aff5149",
   "metadata": {},
   "outputs": [
    {
     "data": {
      "text/plain": [
       "1"
      ]
     },
     "metadata": {},
     "output_type": "display_data"
    },
    {
     "data": {
      "text/plain": [
       "2"
      ]
     },
     "metadata": {},
     "output_type": "display_data"
    },
    {
     "data": {
      "text/plain": [
       "2"
      ]
     },
     "metadata": {},
     "output_type": "display_data"
    }
   ],
   "source": [
    "# смотрим, есть ли выбивающиеся значения в столбцах с однообразными числовыми данными\n",
    "display(df['lim_id'].nunique())\n",
    "display(df['out_sid'].nunique())\n",
    "display(df['in_sid'].nunique())"
   ]
  },
  {
   "cell_type": "code",
   "execution_count": 12,
   "id": "4471f5a0",
   "metadata": {},
   "outputs": [
    {
     "data": {
      "text/plain": [
       "2280    265\n",
       "2288      1\n",
       "Name: in_sid, dtype: int64"
      ]
     },
     "metadata": {},
     "output_type": "display_data"
    },
    {
     "data": {
      "text/plain": [
       "2281    265\n",
       "2261      1\n",
       "Name: out_sid, dtype: int64"
      ]
     },
     "execution_count": 12,
     "metadata": {},
     "output_type": "execute_result"
    }
   ],
   "source": [
    "# посмотрим, что за выбивающиеся значения\n",
    "display(df['in_sid'].value_counts())\n",
    "df['out_sid'].value_counts()"
   ]
  },
  {
   "cell_type": "markdown",
   "id": "07e38197",
   "metadata": {},
   "source": [
    "Промежуточный вывод: в полях `in_sid` и `out_sid` есть по одному значению, отличному от всех остальных (`2288` и `2261` соответственно). Возможно, ошибка при вводе данных."
   ]
  },
  {
   "cell_type": "code",
   "execution_count": 13,
   "id": "74e7e6eb",
   "metadata": {
    "scrolled": true
   },
   "outputs": [
    {
     "data": {
      "image/png": "[encoded data removed]",
      "text/plain": [
       "<Figure size 432x288 with 1 Axes>"
      ]
     },
     "metadata": {
      "needs_background": "light"
     },
     "output_type": "display_data"
    }
   ],
   "source": [
    "# изучим столбец `amount` на предмет аномалий\n",
    "amount_hist = plt.hist(df['amount'], bins=100)\n",
    "plt.xticks(rotation=45)\n",
    "plt.title('Суммы переводов')\n",
    "plt.show()"
   ]
  },
  {
   "cell_type": "markdown",
   "id": "4cd937e6",
   "metadata": {},
   "source": [
    "Выглядит логично, большая часть переводов - суммы до 200_000, затем идут выбросы. Но есть два отрицательных значения."
   ]
  },
  {
   "cell_type": "code",
   "execution_count": 14,
   "id": "46c9c0cd",
   "metadata": {
    "scrolled": true
   },
   "outputs": [
    {
     "data": {
      "text/plain": [
       "73     -39600.0\n",
       "167   -112640.0\n",
       "Name: amount, dtype: float64"
      ]
     },
     "execution_count": 14,
     "metadata": {},
     "output_type": "execute_result"
    }
   ],
   "source": [
    "# поиск отрицательных значений\n",
    "df.loc[df['amount'] < 0, 'amount']"
   ]
  },
  {
   "cell_type": "markdown",
   "id": "51181d29",
   "metadata": {},
   "source": [
    "Промежуточный вывод по столбцу `amount`: в двух строках ошибочно (?) введены отрицательные значения."
   ]
  },
  {
   "cell_type": "markdown",
   "id": "70e18cfb",
   "metadata": {},
   "source": [
    "### Даты и время операций"
   ]
  },
  {
   "cell_type": "markdown",
   "id": "f908de33",
   "metadata": {},
   "source": [
    "При визуальном ознакомлении с датафреймом мы видим, что разница между столбцами `period_to` и `period_from` почти всегда составляет 30 минут. Напишем функцию, которая выведет номера строк, в которых это время будет больше или меньше (если таковые имеются)."
   ]
  },
  {
   "cell_type": "code",
   "execution_count": 15,
   "id": "b54b12f6",
   "metadata": {},
   "outputs": [],
   "source": [
    "def time_func(dataset):\n",
    "    for i in range(2, 267):\n",
    "        if str(df['period_to'][i] - df['period_from'][i]) != '0 days 00:30:00':\n",
    "            print(i)"
   ]
  },
  {
   "cell_type": "code",
   "execution_count": 16,
   "id": "fc9e9f28",
   "metadata": {},
   "outputs": [
    {
     "name": "stdout",
     "output_type": "stream",
     "text": [
      "205\n",
      "207\n",
      "208\n",
      "209\n",
      "210\n",
      "211\n",
      "212\n"
     ]
    }
   ],
   "source": [
    "time_func(df)"
   ]
  },
  {
   "cell_type": "markdown",
   "id": "9b193efa",
   "metadata": {},
   "source": [
    "В данных строках значение временного интервала между `period_to` и `period_from` выбивается из пределы 30 минут. Рассмотрим проблемный срез."
   ]
  },
  {
   "cell_type": "code",
   "execution_count": 17,
   "id": "676aeb0f",
   "metadata": {},
   "outputs": [
    {
     "name": "stdout",
     "output_type": "stream",
     "text": [
      "       log_id  lim_id          created_at  out_sid  in_sid  \\\n",
      "207  10504196   10116 2021-11-20 05:11:21     2281    2280   \n",
      "208  10504195   10116 2021-11-20 05:11:21     2281    2280   \n",
      "209  10504194   10116 2021-11-20 05:11:21     2281    2280   \n",
      "210  10504193   10116 2021-11-20 05:11:21     2281    2280   \n",
      "211  10504192   10116 2021-11-20 05:11:21     2281    2280   \n",
      "212  10504191   10116 2021-11-20 05:11:21     2281    2280   \n",
      "\n",
      "            period_from           period_to      amount  \n",
      "207 2021-11-20 04:00:00 2021-11-20 05:00:00  42472.3394  \n",
      "208 2021-11-20 04:00:00 2021-11-20 05:00:00  42472.3394  \n",
      "209 2021-11-20 04:00:00 2021-11-20 05:00:00  42472.3394  \n",
      "210 2021-11-20 04:00:00 2021-11-20 05:00:00  42472.3394  \n",
      "211 2021-11-20 04:00:00 2021-11-20 05:00:00  42472.3394  \n",
      "212 2021-11-20 04:00:00 2021-11-20 05:00:00  42472.3394  \n"
     ]
    }
   ],
   "source": [
    "print(df[205:211])"
   ]
  },
  {
   "cell_type": "markdown",
   "id": "1a4fa432",
   "metadata": {},
   "source": [
    "Одинаковая сумма перевода, три поля с датой и временем идентичны, различаются только `id`. Ошибка."
   ]
  },
  {
   "cell_type": "markdown",
   "id": "cc203b55",
   "metadata": {},
   "source": [
    "## Общие выводы"
   ]
  },
  {
   "cell_type": "markdown",
   "id": "a9e6122d",
   "metadata": {},
   "source": [
    "В представленном датафрейме была проведена предварительная обработка данных (удалены пустые строки, переименованы поля, преобразованы типы данных). Затем датафрейм был изучен на предмет ошибок и аномалий:\n",
    "- в полях `in_sid` и `out_sid` обнаружено по одному выбивающемуся значению (`2288` и `2261` соответственно). Возможно, ошибка при вводе данных;\n",
    "- в поле с суммой перевода обнаружено два отрицательных значения;\n",
    "- обнаружен срез из 6 строк, в котором значения всех полей, кроме `id` идентичны.\n",
    "\n",
    "Помимо вышеперечисленных проблем визуально вижу, что в поле `created_at` тоже есть странности, например, в строках 176-208 изначального датафрейма получасовые интервалы сдвигаются на две минуты по сравнению с предыдущими, причем этот срез следует сразу за проблемным срезом с идентичными операциями, описанном выше. К сожалению, не придумала сходу, как это обработать и вытащить."
   ]
  }
 ],
 "metadata": {
  "kernelspec": {
   "display_name": "Python 3 (ipykernel)",
   "language": "python",
   "name": "python3"
  },
  "language_info": {
   "codemirror_mode": {
    "name": "ipython",
    "version": 3
   },
   "file_extension": ".py",
   "mimetype": "text/x-python",
   "name": "python",
   "nbconvert_exporter": "python",
   "pygments_lexer": "ipython3",
   "version": "3.9.7"
  }
 },
 "nbformat": 4,
 "nbformat_minor": 5
}
